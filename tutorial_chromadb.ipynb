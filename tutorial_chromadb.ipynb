{
 "cells": [
  {
   "cell_type": "code",
   "execution_count": 1,
   "id": "0a9abc71-3d25-4416-bd67-b46413dd122d",
   "metadata": {},
   "outputs": [],
   "source": [
    "import chromadb\n",
    "\n",
    "client = chromadb.Client()\n",
    "collection = client.create_collection(name=\"my_collection\")   #To create collection \n"
   ]
  },
  {
   "cell_type": "code",
   "execution_count": 2,
   "id": "7107f1f2-938f-43a0-9811-b7cce1ac7d9f",
   "metadata": {},
   "outputs": [
    {
     "name": "stderr",
     "output_type": "stream",
     "text": [
      "C:\\Users\\shiva\\.cache\\chroma\\onnx_models\\all-MiniLM-L6-v2\\onnx.tar.gz: 100%|██████████████████| 79.3M/79.3M [00:09<00:00, 8.80MiB/s]\n"
     ]
    }
   ],
   "source": [
    "#To add documents to collection\n",
    "\n",
    "collection.add(\n",
    "    documents=[\n",
    "        \"This document is about Florida\",\n",
    "        \"This doucment is about North Carolina\"\n",
    "    ],\n",
    "    ids = ['id1', 'id2']\n",
    ")  "
   ]
  },
  {
   "cell_type": "code",
   "execution_count": 3,
   "id": "7e9067bf-29b4-4bb8-9a4d-c027f7633ca3",
   "metadata": {},
   "outputs": [
    {
     "data": {
      "text/plain": [
       "{'ids': ['id1', 'id2'],\n",
       " 'embeddings': None,\n",
       " 'documents': ['This document is about Florida',\n",
       "  'This doucment is about North Carolina'],\n",
       " 'uris': None,\n",
       " 'included': ['metadatas', 'documents'],\n",
       " 'data': None,\n",
       " 'metadatas': [None, None]}"
      ]
     },
     "execution_count": 3,
     "metadata": {},
     "output_type": "execute_result"
    }
   ],
   "source": [
    "#To fetch or get all documents\n",
    "\n",
    "all_docs = collection.get()\n",
    "all_docs"
   ]
  },
  {
   "cell_type": "code",
   "execution_count": 4,
   "id": "e53f0357-03e5-4766-9af6-5159861ca224",
   "metadata": {},
   "outputs": [
    {
     "data": {
      "text/plain": [
       "{'ids': ['id1'],\n",
       " 'embeddings': None,\n",
       " 'documents': ['This document is about Florida'],\n",
       " 'uris': None,\n",
       " 'included': ['metadatas', 'documents'],\n",
       " 'data': None,\n",
       " 'metadatas': [None]}"
      ]
     },
     "execution_count": 4,
     "metadata": {},
     "output_type": "execute_result"
    }
   ],
   "source": [
    "#To fetch or get documents by id\n",
    "\n",
    "documents = collection.get(ids=[\"id1\"])\n",
    "documents"
   ]
  },
  {
   "cell_type": "code",
   "execution_count": 6,
   "id": "c80caee2-bb48-4c58-b353-b087b91c4b5f",
   "metadata": {},
   "outputs": [
    {
     "data": {
      "text/plain": [
       "{'ids': [['id1', 'id2']],\n",
       " 'embeddings': None,\n",
       " 'documents': [['This document is about Florida',\n",
       "   'This doucment is about North Carolina']],\n",
       " 'uris': None,\n",
       " 'included': ['metadatas', 'documents', 'distances'],\n",
       " 'data': None,\n",
       " 'metadatas': [[None, None]],\n",
       " 'distances': [[1.1221414804458618, 1.221733570098877]]}"
      ]
     },
     "execution_count": 6,
     "metadata": {},
     "output_type": "execute_result"
    }
   ],
   "source": [
    "#To add query\n",
    "\n",
    "results = collection.query(\n",
    "    query_texts = ['Query is about Hurricanes'],\n",
    "    n_results = 2\n",
    ")\n",
    "results   # Check the distances these are euclidian distance where florida is closer so Hurricane query is about Florida\n",
    "             #query is about Florida also Florida comes first then NC"
   ]
  },
  {
   "cell_type": "code",
   "execution_count": 7,
   "id": "724687ed-5b4d-455a-8e2f-79c74a8c3210",
   "metadata": {},
   "outputs": [
    {
     "data": {
      "text/plain": [
       "{'ids': [['id2', 'id1']],\n",
       " 'embeddings': None,\n",
       " 'documents': [['This doucment is about North Carolina',\n",
       "   'This document is about Florida']],\n",
       " 'uris': None,\n",
       " 'included': ['metadatas', 'documents', 'distances'],\n",
       " 'data': None,\n",
       " 'metadatas': [[None, None]],\n",
       " 'distances': [[1.0233161449432373, 1.4434236288070679]]}"
      ]
     },
     "execution_count": 7,
     "metadata": {},
     "output_type": "execute_result"
    }
   ],
   "source": [
    "#To add query\n",
    "\n",
    "results = collection.query(\n",
    "    query_texts = ['Query is about Smoky Mountains'],\n",
    "    n_results = 2\n",
    ")\n",
    "results  # Check the distances these are euclidian distance where NC is closer so Smoky Mountains\n",
    "         #query is about NC also NC comes first then Florida"
   ]
  },
  {
   "cell_type": "code",
   "execution_count": 8,
   "id": "cc76e951-4d0a-4d84-b432-c4121cf48968",
   "metadata": {},
   "outputs": [
    {
     "data": {
      "text/plain": [
       "{'ids': [],\n",
       " 'embeddings': None,\n",
       " 'documents': [],\n",
       " 'uris': None,\n",
       " 'included': ['metadatas', 'documents'],\n",
       " 'data': None,\n",
       " 'metadatas': []}"
      ]
     },
     "execution_count": 8,
     "metadata": {},
     "output_type": "execute_result"
    }
   ],
   "source": [
    "# To delete all documents\n",
    "\n",
    "collection.delete(ids=all_docs['ids'])\n",
    "collection.get()\n"
   ]
  },
  {
   "cell_type": "code",
   "execution_count": 10,
   "id": "942fa3d8-df98-4d54-aaa5-b84df530d864",
   "metadata": {},
   "outputs": [],
   "source": [
    "# adding documents with metadata\n",
    "\n",
    "collection.add(\n",
    "    documents=[\n",
    "        \"This document is about Florida\",\n",
    "        \"This doucment is about North Carolina\"\n",
    "    ],\n",
    "    ids = ['id3', 'id4'],\n",
    "    metadatas=[\n",
    "        {\"url\":\"https://en.wikipedia.org/wiki/Florida\"},\n",
    "        {\"url\":\"https://en.wikipedia.org/wiki/North_Carolina\"}\n",
    "    ]   \n",
    ")  "
   ]
  },
  {
   "cell_type": "code",
   "execution_count": 11,
   "id": "b4f9ca25-bb41-4d4e-97ef-6db2b025a851",
   "metadata": {},
   "outputs": [
    {
     "data": {
      "text/plain": [
       "{'ids': [['id3', 'id4']],\n",
       " 'embeddings': None,\n",
       " 'documents': [['This document is about Florida',\n",
       "   'This doucment is about North Carolina']],\n",
       " 'uris': None,\n",
       " 'included': ['metadatas', 'documents', 'distances'],\n",
       " 'data': None,\n",
       " 'metadatas': [[{'url': 'https://en.wikipedia.org/wiki/Florida'},\n",
       "   {'url': 'https://en.wikipedia.org/wiki/North_Carolina'}]],\n",
       " 'distances': [[1.1221415996551514, 1.2217336893081665]]}"
      ]
     },
     "execution_count": 11,
     "metadata": {},
     "output_type": "execute_result"
    }
   ],
   "source": [
    "#To add query\n",
    "\n",
    "results = collection.query(\n",
    "    query_texts = ['Query is about Hurricanes'],\n",
    "    n_results = 2\n",
    ")\n",
    "results  # The metadatas are also retured this is used when LLM generates answers which source it uses, from where it got that answer"
   ]
  },
  {
   "cell_type": "code",
   "execution_count": null,
   "id": "53432e3e-514c-4ca9-aa84-00be5d7be1f8",
   "metadata": {},
   "outputs": [],
   "source": []
  }
 ],
 "metadata": {
  "kernelspec": {
   "display_name": "Python 3 (ipykernel)",
   "language": "python",
   "name": "python3"
  },
  "language_info": {
   "codemirror_mode": {
    "name": "ipython",
    "version": 3
   },
   "file_extension": ".py",
   "mimetype": "text/x-python",
   "name": "python",
   "nbconvert_exporter": "python",
   "pygments_lexer": "ipython3",
   "version": "3.11.13"
  }
 },
 "nbformat": 4,
 "nbformat_minor": 5
}
